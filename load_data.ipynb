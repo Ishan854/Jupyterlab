{
 "cells": [
  {
   "cell_type": "code",
   "execution_count": null,
   "id": "08f20d2f-bffa-4c5d-bcf0-c98a75e8a6fb",
   "metadata": {
    "papermill": {
     "duration": 0.171703,
     "end_time": "2022-04-21T09:31:59.218646",
     "exception": false,
     "start_time": "2022-04-21T09:31:59.046943",
     "status": "completed"
    },
    "tags": []
   },
   "outputs": [],
   "source": [
    "import glob\n",
    "import json\n",
    "import os\n",
    "from pathlib import Path\n",
    "import requests\n",
    "import tarfile\n",
    "from urllib.parse import urlparse"
   ]
  },
  {
   "cell_type": "code",
   "execution_count": null,
   "id": "8ca1629f-f1a7-4d44-89c8-d3ac9d3c1330",
   "metadata": {
    "papermill": {
     "duration": 0.031255,
     "end_time": "2022-04-21T09:31:59.249901",
     "exception": false,
     "start_time": "2022-04-21T09:31:59.218646",
     "status": "completed"
    },
    "tags": []
   },
   "outputs": [],
   "source": [
    "data_file = os.getenv('DATASET_URL',\n",
    "                      'https://dax-cdn.cdn.appdomain.cloud/'\n",
    "                      'dax-noaa-weather-data-jfk-airport/1.1.4/'\n",
    "                      'noaa-weather-data-jfk-airport.tar.gz')"
   ]
  },
  {
   "cell_type": "code",
   "execution_count": null,
   "id": "4c17a0b7-c383-479f-ab6e-91e708362707",
   "metadata": {
    "papermill": {
     "duration": 2.218737,
     "end_time": "2022-04-21T09:32:01.468638",
     "exception": false,
     "start_time": "2022-04-21T09:31:59.249901",
     "status": "completed"
    },
    "tags": []
   },
   "outputs": [],
   "source": [
    "data_dir_name = 'data'\n",
    "\n",
    "print('Downloading data file {} ...'.format(data_file))\n",
    "r = requests.get(data_file)\n",
    "if r.status_code != 200:\n",
    "    raise RuntimeError('Could not fetch {}: HTTP status code {}'\n",
    "                       .format(data_file, r.status_code))\n",
    "else:\n",
    "    \n",
    "    data_file_name = Path((urlparse(data_file).path)).name\n",
    "\n",
    "    data_dir = Path(data_dir_name)\n",
    "    data_dir.mkdir(parents=True, exist_ok=True)\n",
    "    downloaded_data_file = data_dir / data_file_name\n",
    "\n",
    "    print('Saving downloaded file \"{}\" as ...'.format(data_file_name))\n",
    "    with open(downloaded_data_file, 'wb') as downloaded_file:\n",
    "        downloaded_file.write(r.content)\n",
    "\n",
    "    if r.headers['content-type'] == 'application/x-tar':\n",
    "        print('Extracting downloaded file in directory \"{}\" ...'\n",
    "              .format(data_dir))\n",
    "        with tarfile.open(downloaded_data_file, 'r') as tar:\n",
    "            tar.extractall(data_dir)\n",
    "        print('Removing downloaded file ...')\n",
    "        downloaded_data_file.unlink()"
   ]
  },
  {
   "cell_type": "code",
   "execution_count": null,
   "id": "7ecca11c-66f8-4dc0-bb07-4d749fb9a2f1",
   "metadata": {
    "papermill": {
     "duration": 0.031252,
     "end_time": "2022-04-21T09:32:01.499890",
     "exception": false,
     "start_time": "2022-04-21T09:32:01.468638",
     "status": "completed"
    },
    "tags": []
   },
   "outputs": [],
   "source": [
    "for entry in glob.glob(data_dir_name + \"/**/*\",recursive=True):\n",
    "    print(entry)"
   ]
  },
  {
   "cell_type": "code",
   "execution_count": null,
   "id": "0bd6e32a-8b58-4fe6-883d-2c44dbe25282",
   "metadata": {
    "papermill": {
     "duration": 0.031257,
     "end_time": "2022-04-21T09:32:01.531147",
     "exception": false,
     "start_time": "2022-04-21T09:32:01.499890",
     "status": "completed"
    },
    "tags": []
   },
   "outputs": [],
   "source": [
    "if os.environ.get('ELYRA_RUNTIME_ENV') == 'kfp':\n",
    "    metadata = {\n",
    "        'outputs': [\n",
    "            {\n",
    "                'storage':'inline',\n",
    "                'source': '# Data archive URL: {}'\n",
    "                          .format(data_file),\n",
    "                'type': 'markdown',\n",
    "            }]\n",
    "    }\n",
    "    \n",
    "    with open('mlpipeline-ui-metadata.json', 'w') as f:\n",
    "        json.dump(metadata, f)\n"
   ]
  },
  {
   "cell_type": "code",
   "execution_count": 2,
   "id": "1eb2c7db-7d5a-484b-b454-5f4a1a4ac8e0",
   "metadata": {
    "papermill": {
     "duration": 0.015545,
     "end_time": "2022-04-21T09:32:01.546692",
     "exception": false,
     "start_time": "2022-04-21T09:32:01.531147",
     "status": "completed"
    },
    "tags": []
   },
   "outputs": [
    {
     "name": "stdout",
     "output_type": "stream",
     "text": [
      "Creating Pipeline using Elyra-AI using jupyter lab\n"
     ]
    }
   ],
   "source": [
    "print('Creating Pipeline using Elyra-AI using jupyter lab')"
   ]
  },
  {
   "cell_type": "code",
   "execution_count": null,
   "id": "eeedeae6-ba44-431e-9d5a-8eb689127a04",
   "metadata": {
    "papermill": {
     "duration": 0.015629,
     "end_time": "2022-04-21T09:32:01.562321",
     "exception": false,
     "start_time": "2022-04-21T09:32:01.546692",
     "status": "completed"
    },
    "tags": []
   },
   "outputs": [],
   "source": []
  }
 ],
 "metadata": {
  "kernelspec": {
   "display_name": "Python 3 (ipykernel)",
   "language": "python",
   "name": "python3"
  },
  "language_info": {
   "codemirror_mode": {
    "name": "ipython",
    "version": 3
   },
   "file_extension": ".py",
   "mimetype": "text/x-python",
   "name": "python",
   "nbconvert_exporter": "python",
   "pygments_lexer": "ipython3",
   "version": "3.10.2"
  },
  "papermill": {
   "default_parameters": {},
   "duration": 7.009832,
   "end_time": "2022-04-21T09:32:01.812394",
   "environment_variables": {},
   "exception": null,
   "input_path": "C:\\Users\\RABINDRA SRIVASTAVA\\Desktop\\Pipelines in Jupyterlab\\load_data.ipynb",
   "output_path": "C:\\Users\\RABINDRA SRIVASTAVA\\Desktop\\Pipelines in Jupyterlab\\load_data.ipynb",
   "parameters": {},
   "start_time": "2022-04-21T09:31:54.802562",
   "version": "2.3.4"
  }
 },
 "nbformat": 4,
 "nbformat_minor": 5
}
