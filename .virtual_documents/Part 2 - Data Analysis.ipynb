import pandas as pd 
import numpy as np 
from matplotlib import pyplot as plt
import seaborn as sns
plt.rcParams['figure.dpi'] = 160


data = pd.read_csv('data/noaa-weather-data-jfk-airport/jfk_weather_cleaned.csv', parse_dates=['DATE'])
data = data.set_index(pd.DatetimeIndex(data['DATE']))
data.drop(['DATE'], axis = 1, inplace = True)
data.head()


plot_cols = ['dry_bulb_temp_f','relative_humidity','wind_speed','station_pressure','precip']


plt.figure(figsize=(30, 12))
i = 1
for col in plot_cols:
    plt.subplot(len(plot_cols), 1, i)
    plt.plot(data[col].values)
    plt.title(col)
    i += 1
plt.subplots_adjust(hspace=0.5)
plt.show()


f, ax = plt.subplots(figsize=(7, 7))
corr = data[plot_cols].corr()
sns.heatmap(corr, mask=np.zeros_like(corr, dtype=np.bool),
            cmap=sns.diverging_palette(220, 10, as_cmap=True),
            square=True, ax=ax)


sns.pairplot(data[plot_cols])


plt.figure(figsize=(15, 7))
TEMP_COL = 'dry_bulb_temp_f'
plt.subplot(1, 2, 1)
data[TEMP_COL].asfreq('M').plot()
plt.title('Monthly Temperature')
plt.ylabel('Temperature (F)')
plt.tight_layout()
plt.show()



plt.figure(figsize=(15, 7))

plt.subplot(1, 2, 1)
data['2017'][TEMP_COL].asfreq('D').div(data['2017'][TEMP_COL].asfreq('D').shift()).plot()
plt.title('Absolute Change in Daily Temperature in 2017')
plt.ylabel('% Change')

plt.subplot(1, 2, 1)
data['2017'][TEMP_COL].asfreq('D').diff().plot()
plt.title('Absolute Change in Daily Temperature in 2017')
plt.ylabel('Temperature (F)')

plt.tight_layout()
plt.show()


plt.figure(figsize=(15, 7))

plt.subplot(1, 2, 1)
data['2017'][TEMP_COL].rolling('5D').mean().plot(zorder=2)
data['2017'][TEMP_COL].plot(zorder=1)
plt.legend(['Rolling', 'Temp'])
plt.title('Rolling Avg in Hourly Temperature in Winter 2017')
plt.ylabel('Temperature (F)')

plt.tight_layout()
plt.show()



