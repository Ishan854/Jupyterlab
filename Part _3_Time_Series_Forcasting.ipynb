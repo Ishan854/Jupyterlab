{
 "cells": [
  {
   "cell_type": "code",
   "execution_count": null,
   "id": "c0d48d91-97b6-457f-8b93-7d95ab320767",
   "metadata": {
    "papermill": {
     "duration": 11.140735,
     "end_time": "2022-04-22T10:29:28.048841",
     "exception": false,
     "start_time": "2022-04-22T10:29:16.908106",
     "status": "completed"
    },
    "tags": []
   },
   "outputs": [],
   "source": [
    "!pip3 install statsmodels\n",
    "!pip3 install sklearn\n",
    "!pip3 install matplotlib"
   ]
  },
  {
   "cell_type": "code",
   "execution_count": null,
   "id": "349deeb4-9452-46b5-82d6-5170eb0f57d9",
   "metadata": {
    "papermill": {
     "duration": 8.331723,
     "end_time": "2022-04-22T10:29:36.401551",
     "exception": false,
     "start_time": "2022-04-22T10:29:28.069828",
     "status": "completed"
    },
    "tags": []
   },
   "outputs": [],
   "source": [
    "from matplotlib import pyplot as plt\n",
    "import numpy as np\n",
    "import pandas as pd\n",
    "from sklearn.metrics import mean_squared_error\n",
    "from statsmodels.tsa.statespace.sarimax import SARIMAX"
   ]
  },
  {
   "cell_type": "code",
   "execution_count": null,
   "id": "2d048e11-80fe-4462-a3be-9e75e0099038",
   "metadata": {
    "papermill": {
     "duration": 0.306003,
     "end_time": "2022-04-22T10:29:36.727549",
     "exception": false,
     "start_time": "2022-04-22T10:29:36.421546",
     "status": "completed"
    },
    "tags": []
   },
   "outputs": [],
   "source": [
    "data = pd.read_csv('data/noaa-weather-data-jfk-airport/jfk_weather_cleaned.csv', parse_dates=['DATE'])\n"
   ]
  },
  {
   "cell_type": "code",
   "execution_count": null,
   "id": "fa6c2b48-77af-4ebd-952d-4b7565c490bd",
   "metadata": {
    "papermill": {
     "duration": 0.071996,
     "end_time": "2022-04-22T10:29:36.821543",
     "exception": false,
     "start_time": "2022-04-22T10:29:36.749547",
     "status": "completed"
    },
    "tags": []
   },
   "outputs": [],
   "source": [
    "data = data.set_index(pd.DatetimeIndex(data['DATE']))\n",
    "data.drop(['DATE'], axis=1, inplace=True)\n",
    "data.head()"
   ]
  },
  {
   "cell_type": "code",
   "execution_count": null,
   "id": "e865fb1b-8f61-4e49-a5a6-b66f27d5fcfa",
   "metadata": {
    "papermill": {
     "duration": 0.124095,
     "end_time": "2022-04-22T10:29:36.963643",
     "exception": false,
     "start_time": "2022-04-22T10:29:36.839548",
     "status": "completed"
    },
    "tags": []
   },
   "outputs": [],
   "source": [
    "sample = data['2016-01-01':'2018-01-01']\n",
    "sample.info()"
   ]
  },
  {
   "cell_type": "code",
   "execution_count": null,
   "id": "9af33c73-0735-49c7-ad2e-940960247a32",
   "metadata": {
    "papermill": {
     "duration": 0.050001,
     "end_time": "2022-04-22T10:29:37.039644",
     "exception": false,
     "start_time": "2022-04-22T10:29:36.989643",
     "status": "completed"
    },
    "tags": []
   },
   "outputs": [],
   "source": [
    "def split_data(data, val_size=0.1, test_size=0.1):\n",
    "    \"\"\"Splits data to training, validation and testing parts\n",
    "\n",
    "    \"\"\"\n",
    "    ntest = int(round(len(data) * (1 - test_size)))\n",
    "    nval = int(round(len(data) * (1 - test_size - val_size)))\n",
    "\n",
    "    df_train, df_val, df_test = data.iloc[:nval], data.iloc[nval:ntest], data.iloc[ntest:]\n",
    "\n",
    "    return df_train, df_val, df_test\n",
    "\n",
    "df_train, df_val, df_test = split_data(sample)\n",
    "\n",
    "print('Total data size:      {} rows'.format(len(sample)))\n",
    "print('Training set size:    {} rows'.format(len(df_train)))\n",
    "print('Validation set size:  {} rows'.format(len(df_val)))\n",
    "print('Test set size:        {} rows'.format(len(df_test)))"
   ]
  },
  {
   "cell_type": "code",
   "execution_count": null,
   "id": "df2e24b3-0307-4910-9609-0d97707399f6",
   "metadata": {
    "papermill": {
     "duration": 0.065002,
     "end_time": "2022-04-22T10:29:37.125641",
     "exception": false,
     "start_time": "2022-04-22T10:29:37.060639",
     "status": "completed"
    },
    "tags": []
   },
   "outputs": [],
   "source": [
    "Y_COL = 'dry_bulb_temp_f'\n",
    "\n",
    "n_in = 2\n",
    "n_out = 1\n",
    "features = [Y_COL]\n",
    "n_features = len(features)\n",
    "\n",
    "baseline = sample[[Y_COL]].loc[:]\n",
    "baseline['{} (t-1)'.format(Y_COL)] = baseline[Y_COL].shift(1)\n",
    "baseline['{} (t-2)'.format(Y_COL)] = baseline[Y_COL].shift(2)\n",
    "baseline['{} (6hr rollavg)'.format(Y_COL)] = baseline[Y_COL].rolling('6H').mean()\n",
    "baseline['{} (12hr rollavg)'.format(Y_COL)] = baseline[Y_COL].rolling('12H').mean()\n",
    "baseline.dropna(inplace=True)\n",
    "baseline.head(10)"
   ]
  },
  {
   "cell_type": "code",
   "execution_count": null,
   "id": "8bf308f4-eb35-4862-8aad-52430f93d417",
   "metadata": {
    "papermill": {
     "duration": 0.051003,
     "end_time": "2022-04-22T10:29:37.196644",
     "exception": false,
     "start_time": "2022-04-22T10:29:37.145641",
     "status": "completed"
    },
    "tags": []
   },
   "outputs": [],
   "source": [
    "start = df_val.index[0]\n",
    "end = df_val.index[167]\n",
    "sliced = baseline[start:end]"
   ]
  },
  {
   "cell_type": "code",
   "execution_count": null,
   "id": "a56bf1a9-0b58-467e-aa22-72dbe2b260c3",
   "metadata": {
    "papermill": {
     "duration": 0.422505,
     "end_time": "2022-04-22T10:29:37.642145",
     "exception": false,
     "start_time": "2022-04-22T10:29:37.219640",
     "status": "completed"
    },
    "tags": []
   },
   "outputs": [],
   "source": [
    "cols = ['dry_bulb_temp_f', 'dry_bulb_temp_f (t-1)', 'dry_bulb_temp_f (t-2)',\n",
    "        'dry_bulb_temp_f (6hr rollavg)', 'dry_bulb_temp_f (12hr rollavg)']\n",
    "sliced[cols].plot()\n",
    "\n",
    "plt.legend(['t', 't-1', 't-2', '6hr', '12hr'], loc=2, ncol=3)\n",
    "plt.title('Baselines for First 7 Days of Validation Set')\n",
    "plt.ylabel('Temperature (F)')\n",
    "plt.tight_layout()\n",
    "plt.rcParams['figure.dpi'] = 100\n",
    "plt.show()"
   ]
  },
  {
   "cell_type": "code",
   "execution_count": null,
   "id": "1a765ea5-ad15-48ac-9686-19b54892beda",
   "metadata": {
    "papermill": {
     "duration": 0.056033,
     "end_time": "2022-04-22T10:29:37.721182",
     "exception": false,
     "start_time": "2022-04-22T10:29:37.665149",
     "status": "completed"
    },
    "tags": []
   },
   "outputs": [],
   "source": [
    "start_val = df_val.index[0]\n",
    "end_val = df_val.index[-1]\n",
    "baseline_val = baseline[start_val:end_val]\n",
    "\n",
    "baseline_y = baseline_val[Y_COL]\n",
    "baseline_t1 = baseline_val['dry_bulb_temp_f (t-1)']\n",
    "baseline_t2 = baseline_val['dry_bulb_temp_f (t-2)']\n",
    "baseline_avg6 = baseline_val['dry_bulb_temp_f (6hr rollavg)']\n",
    "baseline_avg12 = baseline_val['dry_bulb_temp_f (12hr rollavg)']\n",
    "\n",
    "rmse_t1 = round(np.sqrt(mean_squared_error(baseline_y, baseline_t1)), 2)\n",
    "rmse_t2 = round(np.sqrt(mean_squared_error(baseline_y, baseline_t2)), 2)\n",
    "rmse_avg6 = round(np.sqrt(mean_squared_error(baseline_y, baseline_avg6)), 2)\n",
    "rmse_avg12 = round(np.sqrt(mean_squared_error(baseline_y, baseline_avg12)), 2)\n",
    "\n",
    "print('Baseline t-1 RMSE:            {0:.3f}'.format(rmse_t1))\n",
    "print('Baseline t-2 RMSE:            {0:.3f}'.format(rmse_t2))\n",
    "print('Baseline 6hr rollavg RMSE:    {0:.3f}'.format(rmse_avg6))\n",
    "print('Baseline 12hr rollavg RMSE:   {0:.3f}'.format(rmse_avg12))"
   ]
  },
  {
   "cell_type": "code",
   "execution_count": null,
   "id": "1c785709-81ab-47ad-9976-ba7d21d26e4c",
   "metadata": {
    "papermill": {
     "duration": 0.038964,
     "end_time": "2022-04-22T10:29:37.782144",
     "exception": false,
     "start_time": "2022-04-22T10:29:37.743180",
     "status": "completed"
    },
    "tags": []
   },
   "outputs": [],
   "source": [
    "X_train = df_train[Y_COL]\n",
    "X_val = df_val[Y_COL]\n",
    "X_both = np.hstack((X_train, X_val))"
   ]
  },
  {
   "cell_type": "code",
   "execution_count": null,
   "id": "ee890fe6-8dc9-4d89-82b0-7701fc58689d",
   "metadata": {
    "papermill": {
     "duration": 3.557356,
     "end_time": "2022-04-22T10:29:41.366501",
     "exception": false,
     "start_time": "2022-04-22T10:29:37.809145",
     "status": "completed"
    },
    "tags": []
   },
   "outputs": [],
   "source": [
    "order = (1, 0, 0)\n",
    "model_ar1 = SARIMAX(X_train, order=order)\n",
    "results_ar1 = model_ar1.fit()\n",
    "results_ar1.summary()"
   ]
  },
  {
   "cell_type": "code",
   "execution_count": null,
   "id": "d0847a98-dcd7-4cb9-9d08-5203bdec317c",
   "metadata": {
    "papermill": {
     "duration": 0.137001,
     "end_time": "2022-04-22T10:29:41.534501",
     "exception": false,
     "start_time": "2022-04-22T10:29:41.397500",
     "status": "completed"
    },
    "tags": []
   },
   "outputs": [],
   "source": [
    "full_data_ar1 = SARIMAX(X_both, order=order)\n",
    "model_forecast_ar1 = full_data_ar1.filter(results_ar1.params)"
   ]
  },
  {
   "cell_type": "code",
   "execution_count": null,
   "id": "60219ca8-1c61-4ba2-84df-9a74cd5a9045",
   "metadata": {
    "papermill": {
     "duration": 0.284394,
     "end_time": "2022-04-22T10:29:41.844896",
     "exception": false,
     "start_time": "2022-04-22T10:29:41.560502",
     "status": "completed"
    },
    "tags": []
   },
   "outputs": [],
   "source": [
    "start = len(X_train)\n",
    "end = len(X_both)\n",
    "forecast_ar1 = model_forecast_ar1.predict(start=start, end=end - 1, dynamic=False)\n",
    "\n",
    "plt.plot(sliced[Y_COL].values)\n",
    "plt.plot(forecast_ar1[:168], color='r', linestyle='--')\n",
    "plt.legend(['t', 'AR(1)'], loc=2)\n",
    "plt.title('AR(1) Model Predictions for First 7 Days of Validation Set')\n",
    "plt.ylabel('Temperature (F)')\n",
    "plt.tight_layout()\n",
    "plt.show()"
   ]
  },
  {
   "cell_type": "code",
   "execution_count": null,
   "id": "8464b875-4ac6-4fed-893d-82cfef05d99a",
   "metadata": {
    "papermill": {
     "duration": 0.05296,
     "end_time": "2022-04-22T10:29:41.923851",
     "exception": false,
     "start_time": "2022-04-22T10:29:41.870891",
     "status": "completed"
    },
    "tags": []
   },
   "outputs": [],
   "source": [
    "rmse_ar1 = np.sqrt(mean_squared_error(baseline_val[Y_COL], forecast_ar1))\n",
    "print('AR(1) RMSE:                   {0:.3f}'.format(rmse_ar1))\n",
    "print('Baseline t-1 RMSE:            {0:.3f}'.format(rmse_t1))"
   ]
  },
  {
   "cell_type": "code",
   "execution_count": null,
   "id": "65fda6de-1c5a-4100-a417-a8a4a46ca0a2",
   "metadata": {
    "papermill": {
     "duration": 1.285726,
     "end_time": "2022-04-22T10:29:43.236620",
     "exception": false,
     "start_time": "2022-04-22T10:29:41.950894",
     "status": "completed"
    },
    "tags": []
   },
   "outputs": [],
   "source": [
    "order = (2, 0, 0)\n",
    "model_ar2 = SARIMAX(X_train, order=order)\n",
    "results_ar2 = model_ar2.fit()\n",
    "results_ar2.summary()"
   ]
  },
  {
   "cell_type": "code",
   "execution_count": null,
   "id": "5483d60b-5b43-405a-acab-199925539dee",
   "metadata": {
    "papermill": {
     "duration": 0.186037,
     "end_time": "2022-04-22T10:29:43.457643",
     "exception": false,
     "start_time": "2022-04-22T10:29:43.271606",
     "status": "completed"
    },
    "tags": []
   },
   "outputs": [],
   "source": [
    "full_data_ar2 = SARIMAX(X_both, order=order)\n",
    "model_forecast_ar2 = full_data_ar2.filter(results_ar2.params)\n",
    "\n",
    "start = len(X_train)\n",
    "end = len(X_both)\n",
    "forecast_ar2 = model_forecast_ar2.predict(start=start, end=end - 1, dynamic=False)\n",
    "\n",
    "\n",
    "rmse_ar2 = np.sqrt(mean_squared_error(baseline_val[Y_COL], forecast_ar2))\n",
    "print('AR(2) RMSE:                   {0:.3f}'.format(rmse_ar2))\n",
    "print('AR(1) RMSE:                   {0:.3f}'.format(rmse_ar1))\n",
    "print('Baseline t-1 RMSE:            {0:.3f}'.format(rmse_t1))"
   ]
  },
  {
   "cell_type": "code",
   "execution_count": null,
   "id": "9b4b5547-6805-4bdf-b66f-226b8d9c5b32",
   "metadata": {
    "papermill": {
     "duration": 2.047273,
     "end_time": "2022-04-22T10:29:45.540878",
     "exception": false,
     "start_time": "2022-04-22T10:29:43.493605",
     "status": "completed"
    },
    "tags": []
   },
   "outputs": [],
   "source": [
    "order = (2, 0, 1)\n",
    "model_ar2ma1 = SARIMAX(X_train, order=order)\n",
    "results_ar2ma1 = model_ar2ma1.fit()\n",
    "results_ar2ma1.summary()"
   ]
  },
  {
   "cell_type": "code",
   "execution_count": null,
   "id": "829a8d39-5e4b-4bab-b928-5870618129c6",
   "metadata": {
    "papermill": {
     "duration": 0.213997,
     "end_time": "2022-04-22T10:29:45.782867",
     "exception": false,
     "start_time": "2022-04-22T10:29:45.568870",
     "status": "completed"
    },
    "tags": []
   },
   "outputs": [],
   "source": [
    "full_data_ar2ma1 = SARIMAX(X_both, order=order)\n",
    "model_forecast_ar2ma1 = full_data_ar2ma1.filter(results_ar2ma1.params)\n",
    "\n",
    "start = len(X_train)\n",
    "end = len(X_both)\n",
    "forecast_ar2ma1 = model_forecast_ar2ma1.predict(start=start, end=end - 1, dynamic=False)\n",
    "\n",
    "rmse_ar2ma1 = np.sqrt(mean_squared_error(baseline_val[Y_COL], forecast_ar2ma1))\n",
    "print('AR(2) MA(1) RMSE:             {0:.3f}'.format(rmse_ar2ma1))\n",
    "print('AR(2) RMSE:                   {0:.3f}'.format(rmse_ar2))\n",
    "print('AR(1) RMSE:                   {0:.3f}'.format(rmse_ar1))\n",
    "print('Baseline t-1 RMSE:            {0:.3f}'.format(rmse_t1))"
   ]
  },
  {
   "cell_type": "code",
   "execution_count": null,
   "id": "55e1e6ca-243f-42eb-8fb0-ce980041f8ca",
   "metadata": {
    "papermill": {
     "duration": 0.322995,
     "end_time": "2022-04-22T10:29:46.137868",
     "exception": false,
     "start_time": "2022-04-22T10:29:45.814873",
     "status": "completed"
    },
    "tags": []
   },
   "outputs": [],
   "source": [
    "hrs = 48\n",
    "plt.plot(sliced[Y_COL][:hrs].values)\n",
    "plt.plot(forecast_ar1[:hrs], color='r', linestyle='--')\n",
    "plt.plot(forecast_ar2[:hrs], color='g', linestyle='--')\n",
    "plt.plot(forecast_ar2ma1[:hrs], color='c', linestyle='--')\n",
    "plt.legend(['t', 'AR(1)', 'AR(2)', 'AR(2) MA(1)'], loc=2, ncol=1)\n",
    "plt.title('ARIMA Model Predictions for First 48 hours of Validation Set')\n",
    "plt.ylabel('Temperature (F)')\n",
    "plt.tight_layout()\n",
    "plt.show()"
   ]
  },
  {
   "cell_type": "code",
   "execution_count": null,
   "id": "8eef3c99-4806-462d-b479-7b39b0a6886f",
   "metadata": {
    "papermill": {
     "duration": 0.030032,
     "end_time": "2022-04-22T10:29:46.202906",
     "exception": false,
     "start_time": "2022-04-22T10:29:46.172874",
     "status": "completed"
    },
    "tags": []
   },
   "outputs": [],
   "source": []
  }
 ],
 "metadata": {
  "kernelspec": {
   "display_name": "Python 3 (ipykernel)",
   "language": "python",
   "name": "python3"
  },
  "language_info": {
   "codemirror_mode": {
    "name": "ipython",
    "version": 3
   },
   "file_extension": ".py",
   "mimetype": "text/x-python",
   "name": "python",
   "nbconvert_exporter": "python",
   "pygments_lexer": "ipython3",
   "version": "3.10.2"
  },
  "papermill": {
   "default_parameters": {},
   "duration": 33.143947,
   "end_time": "2022-04-22T10:29:46.787869",
   "environment_variables": {},
   "exception": null,
   "input_path": "C:\\Users\\RABINDRA SRIVASTAVA\\Desktop\\Pipelines in Jupyterlab\\Part 3 - Time Series Forcasting.ipynb",
   "output_path": "C:\\Users\\RABINDRA SRIVASTAVA\\Desktop\\Pipelines in Jupyterlab\\Part 3 - Time Series Forcasting.ipynb",
   "parameters": {},
   "start_time": "2022-04-22T10:29:13.643922",
   "version": "2.3.4"
  }
 },
 "nbformat": 4,
 "nbformat_minor": 5
}
