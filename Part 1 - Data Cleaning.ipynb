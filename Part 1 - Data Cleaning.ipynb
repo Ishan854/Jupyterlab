{
 "cells": [
  {
   "cell_type": "code",
   "execution_count": null,
   "id": "81e740f6-78f5-4432-b695-af25d0ef9b4c",
   "metadata": {
    "papermill": {
     "duration": 3.801534,
     "end_time": "2022-04-21T09:32:08.706980",
     "exception": false,
     "start_time": "2022-04-21T09:32:04.905446",
     "status": "completed"
    },
    "tags": []
   },
   "outputs": [],
   "source": [
    "!pip install PyGithub pandas"
   ]
  },
  {
   "cell_type": "code",
   "execution_count": null,
   "id": "53b53a56-28a4-48a4-9417-b0d1692b02d9",
   "metadata": {
    "papermill": {
     "duration": 0.796857,
     "end_time": "2022-04-21T09:32:09.535104",
     "exception": false,
     "start_time": "2022-04-21T09:32:08.738247",
     "status": "completed"
    },
    "tags": []
   },
   "outputs": [],
   "source": [
    "import numpy as np \n",
    "import pandas as pd \n",
    "import re \n",
    "import sys"
   ]
  },
  {
   "cell_type": "code",
   "execution_count": null,
   "id": "55dbfea6-3fe4-400a-8dee-9030e4e7b30c",
   "metadata": {
    "papermill": {
     "duration": 0.062474,
     "end_time": "2022-04-21T09:32:09.644484",
     "exception": false,
     "start_time": "2022-04-21T09:32:09.582010",
     "status": "completed"
    },
    "tags": []
   },
   "outputs": [],
   "source": [
    "pd.set_option('display.max_columns', 50)\n",
    "pd.set_option('display.max_rows', 50)"
   ]
  },
  {
   "cell_type": "code",
   "execution_count": null,
   "id": "1522f551-1d71-42a6-9c9f-f78ad6954560",
   "metadata": {
    "papermill": {
     "duration": 2.359373,
     "end_time": "2022-04-21T09:32:12.035102",
     "exception": false,
     "start_time": "2022-04-21T09:32:09.675729",
     "status": "completed"
    },
    "tags": []
   },
   "outputs": [],
   "source": [
    "raw_data = pd.read_csv('data/noaa-weather-data-jfk-airport/jfk_weather.csv',\n",
    "                       parse_dates=['DATE'])\n",
    "raw_data.head()"
   ]
  },
  {
   "cell_type": "code",
   "execution_count": null,
   "id": "213d48d8-94fd-4c02-9b22-7f4a22b33e96",
   "metadata": {
    "papermill": {
     "duration": 0.062502,
     "end_time": "2022-04-21T09:32:12.128856",
     "exception": false,
     "start_time": "2022-04-21T09:32:12.066354",
     "status": "completed"
    },
    "tags": []
   },
   "outputs": [],
   "source": [
    "raw_data.dtypes"
   ]
  },
  {
   "cell_type": "code",
   "execution_count": null,
   "id": "64ef3da3-d746-4488-bbb6-974dbb2ec57b",
   "metadata": {
    "papermill": {
     "duration": 0.187502,
     "end_time": "2022-04-21T09:32:12.363233",
     "exception": false,
     "start_time": "2022-04-21T09:32:12.175731",
     "status": "completed"
    },
    "tags": []
   },
   "outputs": [],
   "source": [
    "column_subset = [\n",
    "    'DATE',\n",
    "    'HOURLYVISIBILITY',\n",
    "    'HOURLYDRYBULBTEMPF',\n",
    "    'HOURLYWETBULBTEMPF',\n",
    "    'HOURLYDewPointTempF',\n",
    "    'HOURLYRelativeHumidity',\n",
    "    'HOURLYWindSpeed',\n",
    "    'HOURLYWindDirection',\n",
    "    'HOURLYStationPressure',\n",
    "    'HOURLYPressureTendency',\n",
    "    'HOURLYSeaLevelPressure',\n",
    "    'HOURLYPrecip',\n",
    "    'HOURLYAltimeterSetting'\n",
    "]\n",
    "hourly_data = raw_data[column_subset]\n",
    "hourly_data = hourly_data.set_index(pd.DatetimeIndex(hourly_data['DATE']))\n",
    "hourly_data.drop(['DATE'],axis=1, inplace=True)\n",
    "hourly_data.replace(to_replace='*', value=np.nan, inplace=True)\n",
    "\n"
   ]
  },
  {
   "cell_type": "code",
   "execution_count": null,
   "id": "7cbaec7c-6169-4016-a088-d19042ef8571",
   "metadata": {
    "papermill": {
     "duration": 0.06254,
     "end_time": "2022-04-21T09:32:12.457020",
     "exception": false,
     "start_time": "2022-04-21T09:32:12.394480",
     "status": "completed"
    },
    "tags": []
   },
   "outputs": [],
   "source": [
    "hourly_data.dtypes\n"
   ]
  },
  {
   "cell_type": "code",
   "execution_count": null,
   "id": "61c496bc-ea05-47fe-8f17-bfd9c338998a",
   "metadata": {
    "papermill": {
     "duration": 0.093749,
     "end_time": "2022-04-21T09:32:12.597604",
     "exception": false,
     "start_time": "2022-04-21T09:32:12.503855",
     "status": "completed"
    },
    "tags": []
   },
   "outputs": [],
   "source": [
    "hourly_data['HOURLYPrecip'].unique()"
   ]
  },
  {
   "cell_type": "code",
   "execution_count": null,
   "id": "46a940d1-c21c-4755-afae-ba2ed64cc889",
   "metadata": {
    "papermill": {
     "duration": 0.078121,
     "end_time": "2022-04-21T09:32:12.706979",
     "exception": false,
     "start_time": "2022-04-21T09:32:12.628858",
     "status": "completed"
    },
    "tags": []
   },
   "outputs": [],
   "source": [
    "hourly_data['HOURLYPrecip'].replace(to_replace='T', value='0.00', inplace=True)\n",
    "hourly_data['HOURLYPrecip'].replace('0.020.01s',np.nan, inplace=True)\n"
   ]
  },
  {
   "cell_type": "code",
   "execution_count": null,
   "id": "65cd273e-7384-4674-b813-798a5c0c5d13",
   "metadata": {
    "papermill": {
     "duration": 1.859374,
     "end_time": "2022-04-21T09:32:14.597601",
     "exception": false,
     "start_time": "2022-04-21T09:32:12.738227",
     "status": "completed"
    },
    "tags": []
   },
   "outputs": [],
   "source": [
    "messy_columns = column_subset[1:]\n",
    "for i in messy_columns:\n",
    "    hourly_data[i] = hourly_data[i].apply(\n",
    "        lambda x: re.sub('[^0-9,.-]', '', x)\n",
    "        if type(x) == str else x).replace('', np.nan).astype(('float32'))"
   ]
  },
  {
   "cell_type": "code",
   "execution_count": null,
   "id": "8c67e0a2-e1dc-4404-a21a-57a4778606b0",
   "metadata": {
    "papermill": {
     "duration": 0.1875,
     "end_time": "2022-04-21T09:32:14.831977",
     "exception": false,
     "start_time": "2022-04-21T09:32:14.644477",
     "status": "completed"
    },
    "tags": []
   },
   "outputs": [],
   "source": [
    "hourly_data.describe()"
   ]
  },
  {
   "cell_type": "code",
   "execution_count": null,
   "id": "f3e7d611-f237-4690-a141-03d48be8eef3",
   "metadata": {
    "papermill": {
     "duration": 0.062495,
     "end_time": "2022-04-21T09:32:14.925727",
     "exception": false,
     "start_time": "2022-04-21T09:32:14.863232",
     "status": "completed"
    },
    "tags": []
   },
   "outputs": [],
   "source": [
    "hourly_data.info()"
   ]
  },
  {
   "cell_type": "code",
   "execution_count": null,
   "id": "1139f4f6-d9e2-4cc7-b677-f5875cb50865",
   "metadata": {
    "papermill": {
     "duration": 0.062504,
     "end_time": "2022-04-21T09:32:15.019482",
     "exception": false,
     "start_time": "2022-04-21T09:32:14.956978",
     "status": "completed"
    },
    "tags": []
   },
   "outputs": [],
   "source": [
    "hourly_data.dtypes"
   ]
  },
  {
   "cell_type": "code",
   "execution_count": null,
   "id": "9e79c735-558b-46d6-bccf-fa233215a662",
   "metadata": {
    "papermill": {
     "duration": 0.125001,
     "end_time": "2022-04-21T09:32:15.175731",
     "exception": false,
     "start_time": "2022-04-21T09:32:15.050730",
     "status": "completed"
    },
    "tags": []
   },
   "outputs": [],
   "source": [
    "raw_data.head()"
   ]
  },
  {
   "cell_type": "code",
   "execution_count": null,
   "id": "8f9efe85-5469-4efc-81c8-6e4c949cfedd",
   "metadata": {
    "papermill": {
     "duration": 0.09375,
     "end_time": "2022-04-21T09:32:15.300727",
     "exception": false,
     "start_time": "2022-04-21T09:32:15.206977",
     "status": "completed"
    },
    "tags": []
   },
   "outputs": [],
   "source": [
    "hourly_data.head()"
   ]
  },
  {
   "cell_type": "code",
   "execution_count": null,
   "id": "e6ee346c-88f6-4961-a5b4-1984d14d8737",
   "metadata": {
    "papermill": {
     "duration": 0.062495,
     "end_time": "2022-04-21T09:32:15.394478",
     "exception": false,
     "start_time": "2022-04-21T09:32:15.331983",
     "status": "completed"
    },
    "tags": []
   },
   "outputs": [],
   "source": [
    "cond =\\\n",
    "    len(hourly_data[~hourly_data['HOURLYPressureTendency'].isin(\n",
    "        list(range(0, 9)) + [np.nan])])\n",
    "\n",
    "print('Hourly Pressure Tendency should be between 0 and 8: {}'\n",
    "      .format(cond == 0))"
   ]
  },
  {
   "cell_type": "code",
   "execution_count": null,
   "id": "279d77a1-1cbd-4180-8102-ef13624f1cb7",
   "metadata": {
    "papermill": {
     "duration": 0.081917,
     "end_time": "2022-04-21T09:32:15.536361",
     "exception": false,
     "start_time": "2022-04-21T09:32:15.454444",
     "status": "completed"
    },
    "tags": []
   },
   "outputs": [],
   "source": [
    "hourly_data[(hourly_data['HOURLYVISIBILITY'] < 0) | (hourly_data['HOURLYVISIBILITY'] > 10)]"
   ]
  },
  {
   "cell_type": "code",
   "execution_count": null,
   "id": "62991fc1-3b3a-49de-b2a8-b5005f437b39",
   "metadata": {
    "papermill": {
     "duration": 0.046876,
     "end_time": "2022-04-21T09:32:15.614488",
     "exception": false,
     "start_time": "2022-04-21T09:32:15.567612",
     "status": "completed"
    },
    "tags": []
   },
   "outputs": [],
   "source": []
  },
  {
   "cell_type": "code",
   "execution_count": null,
   "id": "c41e7fc7-5984-4883-a174-8f92851bb99b",
   "metadata": {
    "papermill": {
     "duration": 0.078128,
     "end_time": "2022-04-21T09:32:15.739492",
     "exception": false,
     "start_time": "2022-04-21T09:32:15.661364",
     "status": "completed"
    },
    "tags": []
   },
   "outputs": [],
   "source": [
    "hourly_data.loc[hourly_data['HOURLYVISIBILITY'] > 10, 'HOURLYVISIBILITY'] = np.nan\n",
    "cond = len(hourly_data[(hourly_data['HOURLYVISIBILITY'] < 0) | (hourly_data['HOURLYVISIBILITY'] > 10) ] )\n",
    "print('Hourly Visibility should be between 0 and 10: {}'.format(cond  == 0))"
   ]
  },
  {
   "cell_type": "code",
   "execution_count": null,
   "id": "952b9009-b6b9-4b48-b4a9-84ddd00aaf6c",
   "metadata": {
    "papermill": {
     "duration": 0.062501,
     "end_time": "2022-04-21T09:32:15.833237",
     "exception": false,
     "start_time": "2022-04-21T09:32:15.770736",
     "status": "completed"
    },
    "tags": []
   },
   "outputs": [],
   "source": [
    "conda = len(hourly_data[hourly_data.index.duplicated()].sort_index())\n",
    "print('Date index contains no duplicate entries: {}'.format(cond == 0))"
   ]
  },
  {
   "cell_type": "code",
   "execution_count": null,
   "id": "cb7a988d-97e6-401b-b12a-a9dbed537188",
   "metadata": {
    "papermill": {
     "duration": 0.062497,
     "end_time": "2022-04-21T09:32:15.958235",
     "exception": false,
     "start_time": "2022-04-21T09:32:15.895738",
     "status": "completed"
    },
    "tags": []
   },
   "outputs": [],
   "source": [
    "print('Date index is strictly increasing: {}'\n",
    "     .format(hourly_data.index.is_monotonic_increasing))"
   ]
  },
  {
   "cell_type": "code",
   "execution_count": null,
   "id": "2919f7b4-b179-4164-8ddf-dab3f20749f4",
   "metadata": {
    "papermill": {
     "duration": 0.093754,
     "end_time": "2022-04-21T09:32:16.083245",
     "exception": false,
     "start_time": "2022-04-21T09:32:15.989491",
     "status": "completed"
    },
    "tags": []
   },
   "outputs": [],
   "source": [
    "hourly_data = hourly_data.resample('60min').last().shift(periods=1)"
   ]
  },
  {
   "cell_type": "code",
   "execution_count": null,
   "id": "a295f11f-8731-41e5-9ff7-3f6687539229",
   "metadata": {
    "papermill": {
     "duration": 0.171877,
     "end_time": "2022-04-21T09:32:16.301988",
     "exception": false,
     "start_time": "2022-04-21T09:32:16.130111",
     "status": "completed"
    },
    "tags": []
   },
   "outputs": [],
   "source": [
    "hourly_data['HOURLYPressureTendency'] =\\\n",
    "    hourly_data['HOURLYPressureTendency'].fillna(method='ffill')\n",
    "hourly_data = hourly_data.interpolate(method = 'linear')\n",
    "hourly_data.drop(hourly_data.index[0], inplace = True)"
   ]
  },
  {
   "cell_type": "code",
   "execution_count": null,
   "id": "61594796-74b3-4465-bf72-67616357db73",
   "metadata": {
    "papermill": {
     "duration": 0.109378,
     "end_time": "2022-04-21T09:32:16.458240",
     "exception": false,
     "start_time": "2022-04-21T09:32:16.348862",
     "status": "completed"
    },
    "tags": []
   },
   "outputs": [],
   "source": [
    "print(hourly_data.info())\n",
    "print()\n",
    "hourly_data.head()"
   ]
  },
  {
   "cell_type": "code",
   "execution_count": null,
   "id": "43995f1f-74b8-441c-8610-890dc9d76a28",
   "metadata": {
    "papermill": {
     "duration": 0.078129,
     "end_time": "2022-04-21T09:32:16.567616",
     "exception": false,
     "start_time": "2022-04-21T09:32:16.489487",
     "status": "completed"
    },
    "tags": []
   },
   "outputs": [],
   "source": [
    "hourly_data['HOURLYWindDirectionSin']  = np.sin(hourly_data['HOURLYWindDirection'] * (2. * np.pi / 360))\n",
    "hourly_data['HOURLYWindDirectionCos']  = np.cos(hourly_data['HOURLYWindDirection'] * (2. * np.pi / 360))\n",
    "hourly_data.drop(['HOURLYWindDirection'], axis=1, inplace =True)"
   ]
  },
  {
   "cell_type": "code",
   "execution_count": null,
   "id": "a58673a7-2dd0-46e8-b9a1-01461433dd46",
   "metadata": {
    "papermill": {
     "duration": 0.250036,
     "end_time": "2022-04-21T09:32:16.848899",
     "exception": false,
     "start_time": "2022-04-21T09:32:16.598863",
     "status": "completed"
    },
    "tags": []
   },
   "outputs": [],
   "source": [
    "hourly_data['HOURLYPressureTendencyIncr'] =\\\n",
    "    [1.0 if x in [0, 1, 2, 3]\n",
    "        else 0.0 for x in hourly_data['HOURLYPressureTendency']] \n",
    "hourly_data['HOURLYPressureTendencyDecr'] =\\\n",
    "    [1.0 if x in [5, 6, 7, 8]\n",
    "     else 0.0 for x in hourly_data['HOURLYPressureTendency']]\n",
    "hourly_data['HOURLYPressureTendencyConst'] =\\\n",
    "    [1.0 if x == 4\n",
    "     else 0.0 for x in hourly_data['HOURLYPressureTendency']]\n",
    "hourly_data.drop(['HOURLYPressureTendency'], axis=1, inplace=True)\n",
    "hourly_data['HOURLYPressureTendencyIncr'] =\\\n",
    "    hourly_data['HOURLYPressureTendencyIncr'].astype(('float32'))\n",
    "hourly_data['HOURLYPressureTendencyDecr'] =\\\n",
    "    hourly_data['HOURLYPressureTendencyDecr'].astype(('float32'))\n",
    "hourly_data['HOURLYPressureTendencyConst'] =\\\n",
    "    hourly_data['HOURLYPressureTendencyConst'].astype(('float32'))"
   ]
  },
  {
   "cell_type": "code",
   "execution_count": null,
   "id": "acb1250e-38cc-4b17-9718-dba0bff7c50d",
   "metadata": {
    "papermill": {
     "duration": 0.062532,
     "end_time": "2022-04-21T09:32:16.942650",
     "exception": false,
     "start_time": "2022-04-21T09:32:16.880118",
     "status": "completed"
    },
    "tags": []
   },
   "outputs": [],
   "source": [
    "hourly_data.columns"
   ]
  },
  {
   "cell_type": "code",
   "execution_count": null,
   "id": "2801e257-840f-4ef3-8ee4-7b39778e1e75",
   "metadata": {
    "papermill": {
     "duration": 0.093752,
     "end_time": "2022-04-21T09:32:17.067615",
     "exception": false,
     "start_time": "2022-04-21T09:32:16.973863",
     "status": "completed"
    },
    "tags": []
   },
   "outputs": [],
   "source": [
    "columns_new_name = [\n",
    "    'visibility',\n",
    "    'dry_bulb_temp_f',\n",
    "    'wet_bulb_temp_f',\n",
    "    'dew_point_temp_f',\n",
    "    'relative_humidity',\n",
    "    'wind_speed',\n",
    "    'station_pressure',\n",
    "    'sea_level_pressure',\n",
    "    'precip',\n",
    "    'altimeter_setting',\n",
    "    'wind_direction_sin',\n",
    "    'wind_direction_cos',\n",
    "    'pressure_tedency_incr',\n",
    "    'pressure_tedency_decr',\n",
    "    'pressure_tedency_const'\n",
    "]\n",
    "\n",
    "columns_name_map =\\\n",
    "    {c: columns_new_name[i] for i, c in enumerate(hourly_data.columns)}\n",
    "\n",
    "hourly_data_renamed = hourly_data.rename(columns=columns_name_map)\n",
    "    "
   ]
  },
  {
   "cell_type": "code",
   "execution_count": null,
   "id": "b85f9d2d-8390-45c7-a80d-2d3738be92cf",
   "metadata": {
    "papermill": {
     "duration": 0.109374,
     "end_time": "2022-04-21T09:32:17.208236",
     "exception": false,
     "start_time": "2022-04-21T09:32:17.098862",
     "status": "completed"
    },
    "tags": []
   },
   "outputs": [],
   "source": [
    "print(hourly_data_renamed.info())\n",
    "print()\n",
    "print(hourly_data_renamed.head())"
   ]
  },
  {
   "cell_type": "code",
   "execution_count": null,
   "id": "733a3214-673a-4652-bbef-c7717342cd20",
   "metadata": {
    "papermill": {
     "duration": 0.062502,
     "end_time": "2022-04-21T09:32:17.317617",
     "exception": false,
     "start_time": "2022-04-21T09:32:17.255115",
     "status": "completed"
    },
    "tags": []
   },
   "outputs": [],
   "source": [
    "print('# of megabytes held by dataframe: {}'.format(\n",
    "      str(round(sys.getsizeof(hourly_data_renamed) / 1000000, 2))))\n",
    "print('# of features: {}'.format(str(hourly_data_renamed.shape[1])))\n",
    "print('# of observations: {}'.format(str(hourly_data_renamed.shape[0])))\n",
    "print('Start date: {}'.format(str(hourly_data_renamed.index[0])))\n",
    "print('End date: {}'.format(str(hourly_data_renamed.index[-1])))\n",
    "print('# of days: {}'.format(\n",
    "      str((hourly_data_renamed.index[-1] - hourly_data_renamed.index[0]).days)))\n",
    "print('# of months: {}'.format(\n",
    "      str(round((hourly_data_renamed.index[-1] - hourly_data_renamed.index[0]).days / 30, 2))))\n",
    "print('# of years: {}'.format(\n",
    "      str(round((hourly_data_renamed.index[-1] - hourly_data_renamed.index[0]).days / 365, 2))))"
   ]
  },
  {
   "cell_type": "code",
   "execution_count": null,
   "id": "e05811ae-b7d7-4427-a961-14a01bd83a7c",
   "metadata": {
    "papermill": {
     "duration": 3.432693,
     "end_time": "2022-04-21T09:32:20.797185",
     "exception": false,
     "start_time": "2022-04-21T09:32:17.364492",
     "status": "completed"
    },
    "tags": []
   },
   "outputs": [],
   "source": [
    "hourly_data_renamed.to_csv(\n",
    "    \"data/noaa-weather-data-jfk-airport/jfk_weather_cleaned.csv\",\n",
    "    float_format='%g')"
   ]
  },
  {
   "cell_type": "code",
   "execution_count": null,
   "id": "7c9189c4-a36b-4e1f-b44e-7f402b7e7f20",
   "metadata": {
    "papermill": {
     "duration": 0.046875,
     "end_time": "2022-04-21T09:32:20.875309",
     "exception": false,
     "start_time": "2022-04-21T09:32:20.828434",
     "status": "completed"
    },
    "tags": []
   },
   "outputs": [],
   "source": []
  }
 ],
 "metadata": {
  "kernelspec": {
   "display_name": "Python 3 (ipykernel)",
   "language": "python",
   "name": "python3"
  },
  "language_info": {
   "codemirror_mode": {
    "name": "ipython",
    "version": 3
   },
   "file_extension": ".py",
   "mimetype": "text/x-python",
   "name": "python",
   "nbconvert_exporter": "python",
   "pygments_lexer": "ipython3",
   "version": "3.10.2"
  },
  "papermill": {
   "default_parameters": {},
   "duration": 19.500485,
   "end_time": "2022-04-21T09:32:21.359682",
   "environment_variables": {},
   "exception": null,
   "input_path": "C:\\Users\\RABINDRA SRIVASTAVA\\Desktop\\Pipelines in Jupyterlab\\Part 1 - Data Cleaning.ipynb",
   "output_path": "C:\\Users\\RABINDRA SRIVASTAVA\\Desktop\\Pipelines in Jupyterlab\\Part 1 - Data Cleaning.ipynb",
   "parameters": {},
   "start_time": "2022-04-21T09:32:01.859197",
   "version": "2.3.4"
  }
 },
 "nbformat": 4,
 "nbformat_minor": 5
}
